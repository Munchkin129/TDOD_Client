{
 "cells": [
  {
   "cell_type": "markdown",
   "metadata": {},
   "source": [
    "# 1. Import Dependencies"
   ]
  },
  {
   "cell_type": "code",
   "execution_count": 10,
   "metadata": {
    "collapsed": true
   },
   "outputs": [
    {
     "name": "stdout",
     "output_type": "stream",
     "text": [
      "Requirement already satisfied: opencv-python in c:\\studium\\praxisprojekt\\object detection\\tfodcourse\\od\\lib\\site-packages (4.7.0.72)\n",
      "Requirement already satisfied: numpy>=1.21.2 in c:\\studium\\praxisprojekt\\object detection\\tfodcourse\\od\\lib\\site-packages (from opencv-python) (1.25.0)\n"
     ]
    }
   ],
   "source": [
    "!pip install opencv-python"
   ]
  },
  {
   "cell_type": "code",
   "execution_count": 1,
   "metadata": {
    "collapsed": true
   },
   "outputs": [],
   "source": [
    "# Import opencv\n",
    "import cv2 \n",
    "\n",
    "# Import uuid\n",
    "import uuid\n",
    "\n",
    "# Import Operating System\n",
    "import os\n",
    "\n",
    "# Import time\n",
    "import time"
   ]
  },
  {
   "cell_type": "markdown",
   "metadata": {},
   "source": [
    "# 2. Define Images to Collect"
   ]
  },
  {
   "cell_type": "code",
   "execution_count": 8,
   "metadata": {
    "collapsed": true
   },
   "outputs": [],
   "source": [
    "labels = ['thumbsup', 'thumbsdown']\n",
    "number_imgs = 5"
   ]
  },
  {
   "cell_type": "markdown",
   "metadata": {},
   "source": [
    "# 3. Setup Folders "
   ]
  },
  {
   "cell_type": "code",
   "execution_count": 3,
   "metadata": {
    "collapsed": true
   },
   "outputs": [],
   "source": [
    "IMAGES_PATH = os.path.join('Tensorflow', 'workspace', 'images', 'collectedimages')"
   ]
  },
  {
   "cell_type": "code",
   "execution_count": 4,
   "metadata": {
    "collapsed": true
   },
   "outputs": [
    {
     "data": {
      "text/plain": [
       "'nt'"
      ]
     },
     "execution_count": 4,
     "metadata": {},
     "output_type": "execute_result"
    }
   ],
   "source": [
    "os.name"
   ]
  },
  {
   "cell_type": "code",
   "execution_count": 5,
   "metadata": {
    "collapsed": true
   },
   "outputs": [],
   "source": [
    "if not os.path.exists(IMAGES_PATH):\n",
    "    if os.name == 'posix':\n",
    "        !mkdir -p {IMAGES_PATH}\n",
    "    if os.name == 'nt':\n",
    "         !mkdir {IMAGES_PATH}\n",
    "for label in labels:\n",
    "    path = os.path.join(IMAGES_PATH, label)\n",
    "    if not os.path.exists(path):\n",
    "        !mkdir {path}"
   ]
  },
  {
   "cell_type": "markdown",
   "metadata": {},
   "source": [
    "# 4. Capture Images"
   ]
  },
  {
   "cell_type": "code",
   "execution_count": 10,
   "metadata": {
    "collapsed": true
   },
   "outputs": [
    {
     "name": "stdout",
     "output_type": "stream",
     "text": [
      "Collecting images for thumbsup\n",
      "Collecting image 0\n",
      "Collecting image 1\n",
      "Collecting image 2\n",
      "Collecting image 3\n",
      "Collecting image 4\n",
      "Collecting images for thumbsdown\n",
      "Collecting image 0\n",
      "Collecting image 1\n",
      "Collecting image 2\n",
      "Collecting image 3\n",
      "Collecting image 4\n"
     ]
    }
   ],
   "source": [
    "for label in labels:\n",
    "    cap = cv2.VideoCapture(0)\n",
    "    print('Collecting images for {}'.format(label))\n",
    "    time.sleep(5)\n",
    "    for imgnum in range(number_imgs):\n",
    "        print('Collecting image {}'.format(imgnum))\n",
    "        ret, frame = cap.read()\n",
    "        imgname = os.path.join(IMAGES_PATH,label,label+'.'+'{}.jpg'.format(str(uuid.uuid1())))\n",
    "        cv2.imwrite(imgname, frame)\n",
    "        cv2.imshow('frame', frame)\n",
    "        time.sleep(2)\n",
    "\n",
    "        if cv2.waitKey(1) & 0xFF == ord('q'):\n",
    "            break\n",
    "cap.release()\n",
    "cv2.destroyAllWindows()"
   ]
  },
  {
   "cell_type": "markdown",
   "metadata": {},
   "source": [
    "# 5. Image Labelling"
   ]
  },
  {
   "cell_type": "code",
   "execution_count": 1,
   "metadata": {
    "collapsed": true
   },
   "outputs": [
    {
     "name": "stdout",
     "output_type": "stream",
     "text": [
      "Collecting pyqt5\n",
      "  Downloading PyQt5-5.15.9-cp37-abi3-win_amd64.whl (6.8 MB)\n",
      "                                              0.0/6.8 MB ? eta -:--:--\n",
      "                                              0.1/6.8 MB 3.6 MB/s eta 0:00:02\n",
      "     --                                       0.4/6.8 MB 5.3 MB/s eta 0:00:02\n",
      "     ----                                     0.7/6.8 MB 5.5 MB/s eta 0:00:02\n",
      "     -----                                    0.9/6.8 MB 5.4 MB/s eta 0:00:02\n",
      "     -------                                  1.2/6.8 MB 5.4 MB/s eta 0:00:02\n",
      "     --------                                 1.5/6.8 MB 5.4 MB/s eta 0:00:01\n",
      "     ----------                               1.7/6.8 MB 5.5 MB/s eta 0:00:01\n",
      "     -----------                              2.0/6.8 MB 5.5 MB/s eta 0:00:01\n",
      "     -------------                            2.2/6.8 MB 5.5 MB/s eta 0:00:01\n",
      "     ---------------                          2.7/6.8 MB 5.9 MB/s eta 0:00:01\n",
      "     -------------------                      3.3/6.8 MB 6.5 MB/s eta 0:00:01\n",
      "     ----------------------                   3.8/6.8 MB 7.0 MB/s eta 0:00:01\n",
      "     -------------------------                4.4/6.8 MB 7.4 MB/s eta 0:00:01\n",
      "     ----------------------------             4.9/6.8 MB 7.7 MB/s eta 0:00:01\n",
      "     --------------------------------         5.5/6.8 MB 8.0 MB/s eta 0:00:01\n",
      "     -----------------------------------      6.1/6.8 MB 8.2 MB/s eta 0:00:01\n",
      "     --------------------------------------   6.6/6.8 MB 8.4 MB/s eta 0:00:01\n",
      "     ---------------------------------------- 6.8/6.8 MB 8.3 MB/s eta 0:00:00\n",
      "Collecting lxml\n",
      "  Downloading lxml-4.9.2-cp310-cp310-win_amd64.whl (3.8 MB)\n",
      "                                              0.0/3.8 MB ? eta -:--:--\n",
      "     ------                                   0.6/3.8 MB 12.4 MB/s eta 0:00:01\n",
      "     ------------                             1.2/3.8 MB 12.9 MB/s eta 0:00:01\n",
      "     -------------------                      1.8/3.8 MB 13.1 MB/s eta 0:00:01\n",
      "     -------------------------                2.4/3.8 MB 13.0 MB/s eta 0:00:01\n",
      "     --------------------------------         3.1/3.8 MB 14.0 MB/s eta 0:00:01\n",
      "     --------------------------------------   3.7/3.8 MB 13.0 MB/s eta 0:00:01\n",
      "     ---------------------------------------- 3.8/3.8 MB 12.1 MB/s eta 0:00:00\n",
      "Collecting PyQt5-sip<13,>=12.11 (from pyqt5)\n",
      "  Downloading PyQt5_sip-12.12.1-cp310-cp310-win_amd64.whl (78 kB)\n",
      "                                              0.0/78.4 kB ? eta -:--:--\n",
      "     ---------------------------------------- 78.4/78.4 kB ? eta 0:00:00\n",
      "Collecting PyQt5-Qt5>=5.15.2 (from pyqt5)\n",
      "  Downloading PyQt5_Qt5-5.15.2-py3-none-win_amd64.whl (50.1 MB)\n",
      "                                              0.0/50.1 MB ? eta -:--:--\n",
      "                                              0.7/50.1 MB 15.5 MB/s eta 0:00:04\n",
      "     -                                        1.4/50.1 MB 14.5 MB/s eta 0:00:04\n",
      "     -                                        2.0/50.1 MB 14.0 MB/s eta 0:00:04\n",
      "     --                                       2.6/50.1 MB 12.9 MB/s eta 0:00:04\n",
      "     --                                       3.2/50.1 MB 13.7 MB/s eta 0:00:04\n",
      "     ---                                      3.8/50.1 MB 13.6 MB/s eta 0:00:04\n",
      "     ---                                      4.4/50.1 MB 13.5 MB/s eta 0:00:04\n",
      "     ----                                     5.0/50.1 MB 13.4 MB/s eta 0:00:04\n",
      "     ----                                     5.7/50.1 MB 13.4 MB/s eta 0:00:04\n",
      "     -----                                    6.3/50.1 MB 13.4 MB/s eta 0:00:04\n",
      "     -----                                    6.8/50.1 MB 13.1 MB/s eta 0:00:04\n",
      "     ------                                   7.5/50.1 MB 13.4 MB/s eta 0:00:04\n",
      "     ------                                   8.1/50.1 MB 13.4 MB/s eta 0:00:04\n",
      "     ------                                   8.7/50.1 MB 13.2 MB/s eta 0:00:04\n",
      "     -------                                  9.4/50.1 MB 13.3 MB/s eta 0:00:04\n",
      "     -------                                 10.0/50.1 MB 13.3 MB/s eta 0:00:04\n",
      "     --------                                10.6/50.1 MB 13.4 MB/s eta 0:00:03\n",
      "     --------                                11.2/50.1 MB 13.1 MB/s eta 0:00:03\n",
      "     ---------                               11.7/50.1 MB 13.1 MB/s eta 0:00:03\n",
      "     ---------                               12.4/50.1 MB 13.1 MB/s eta 0:00:03\n",
      "     ----------                              13.0/50.1 MB 13.1 MB/s eta 0:00:03\n",
      "     ----------                              13.6/50.1 MB 13.1 MB/s eta 0:00:03\n",
      "     -----------                             14.2/50.1 MB 13.1 MB/s eta 0:00:03\n",
      "     -----------                             14.8/50.1 MB 13.1 MB/s eta 0:00:03\n",
      "     ------------                            15.5/50.1 MB 13.1 MB/s eta 0:00:03\n",
      "     ------------                            16.1/50.1 MB 13.1 MB/s eta 0:00:03\n",
      "     ------------                            16.7/50.1 MB 13.1 MB/s eta 0:00:03\n",
      "     -------------                           17.5/50.1 MB 13.4 MB/s eta 0:00:03\n",
      "     --------------                          18.1/50.1 MB 13.1 MB/s eta 0:00:03\n",
      "     --------------                          18.7/50.1 MB 13.1 MB/s eta 0:00:03\n",
      "     ---------------                         19.3/50.1 MB 13.1 MB/s eta 0:00:03\n",
      "     ---------------                         19.9/50.1 MB 13.1 MB/s eta 0:00:03\n",
      "     ----------------                        20.8/50.1 MB 13.1 MB/s eta 0:00:03\n",
      "     ----------------                        21.4/50.1 MB 13.1 MB/s eta 0:00:03\n",
      "     -----------------                       22.0/50.1 MB 13.4 MB/s eta 0:00:03\n",
      "     -----------------                       22.6/50.1 MB 13.1 MB/s eta 0:00:03\n",
      "     ------------------                      23.3/50.1 MB 13.1 MB/s eta 0:00:03\n",
      "     ------------------                      23.8/50.1 MB 13.1 MB/s eta 0:00:03\n",
      "     -------------------                     24.5/50.1 MB 13.1 MB/s eta 0:00:02\n",
      "     -------------------                     25.1/50.1 MB 13.1 MB/s eta 0:00:02\n",
      "     -------------------                     25.6/50.1 MB 13.1 MB/s eta 0:00:02\n",
      "     --------------------                    26.3/50.1 MB 13.1 MB/s eta 0:00:02\n",
      "     --------------------                    26.8/50.1 MB 12.8 MB/s eta 0:00:02\n",
      "     ---------------------                   27.5/50.1 MB 13.4 MB/s eta 0:00:02\n",
      "     ---------------------                   28.1/50.1 MB 13.1 MB/s eta 0:00:02\n",
      "     ----------------------                  28.6/50.1 MB 12.9 MB/s eta 0:00:02\n",
      "     ----------------------                  29.2/50.1 MB 13.1 MB/s eta 0:00:02\n",
      "     -----------------------                 29.9/50.1 MB 13.4 MB/s eta 0:00:02\n",
      "     -----------------------                 30.7/50.1 MB 13.1 MB/s eta 0:00:02\n",
      "     ------------------------                31.3/50.1 MB 13.1 MB/s eta 0:00:02\n",
      "     ------------------------                31.9/50.1 MB 13.1 MB/s eta 0:00:02\n",
      "     -------------------------               32.8/50.1 MB 13.1 MB/s eta 0:00:02\n",
      "     -------------------------               33.3/50.1 MB 13.1 MB/s eta 0:00:02\n",
      "     --------------------------              34.1/50.1 MB 13.1 MB/s eta 0:00:02\n",
      "     ---------------------------             34.9/50.1 MB 13.1 MB/s eta 0:00:02\n",
      "     ---------------------------             35.6/50.1 MB 13.1 MB/s eta 0:00:02\n",
      "     ----------------------------            36.2/50.1 MB 13.1 MB/s eta 0:00:02\n",
      "     ----------------------------            36.8/50.1 MB 13.1 MB/s eta 0:00:02\n",
      "     -----------------------------           37.4/50.1 MB 13.1 MB/s eta 0:00:01\n",
      "     -----------------------------           38.1/50.1 MB 13.1 MB/s eta 0:00:01\n",
      "     ------------------------------          38.7/50.1 MB 13.4 MB/s eta 0:00:01\n",
      "     ------------------------------          39.2/50.1 MB 13.1 MB/s eta 0:00:01\n",
      "     -------------------------------         39.9/50.1 MB 13.1 MB/s eta 0:00:01\n",
      "     -------------------------------         40.4/50.1 MB 13.1 MB/s eta 0:00:01\n",
      "     --------------------------------        41.1/50.1 MB 13.1 MB/s eta 0:00:01\n",
      "     --------------------------------        41.7/50.1 MB 13.1 MB/s eta 0:00:01\n",
      "     --------------------------------        42.3/50.1 MB 13.1 MB/s eta 0:00:01\n",
      "     ---------------------------------       42.9/50.1 MB 13.1 MB/s eta 0:00:01\n",
      "     ---------------------------------       43.5/50.1 MB 13.4 MB/s eta 0:00:01\n",
      "     ----------------------------------      44.2/50.1 MB 13.1 MB/s eta 0:00:01\n",
      "     ----------------------------------      44.8/50.1 MB 13.1 MB/s eta 0:00:01\n",
      "     -----------------------------------     45.4/50.1 MB 13.1 MB/s eta 0:00:01\n",
      "     -----------------------------------     45.9/50.1 MB 13.1 MB/s eta 0:00:01\n",
      "     ------------------------------------    46.6/50.1 MB 13.1 MB/s eta 0:00:01\n",
      "     ------------------------------------    47.2/50.1 MB 13.1 MB/s eta 0:00:01\n",
      "     -------------------------------------   47.8/50.1 MB 13.1 MB/s eta 0:00:01\n",
      "     -------------------------------------   48.4/50.1 MB 13.1 MB/s eta 0:00:01\n",
      "     --------------------------------------  49.0/50.1 MB 13.1 MB/s eta 0:00:01\n",
      "     --------------------------------------  49.6/50.1 MB 13.1 MB/s eta 0:00:01\n",
      "     --------------------------------------  50.1/50.1 MB 13.1 MB/s eta 0:00:01\n",
      "     --------------------------------------  50.1/50.1 MB 13.1 MB/s eta 0:00:01\n",
      "     --------------------------------------  50.1/50.1 MB 13.1 MB/s eta 0:00:01\n",
      "     --------------------------------------  50.1/50.1 MB 13.1 MB/s eta 0:00:01\n",
      "     --------------------------------------- 50.1/50.1 MB 10.4 MB/s eta 0:00:00\n",
      "Installing collected packages: PyQt5-Qt5, PyQt5-sip, lxml, pyqt5\n",
      "Successfully installed PyQt5-Qt5-5.15.2 PyQt5-sip-12.12.1 lxml-4.9.2 pyqt5-5.15.9\n"
     ]
    }
   ],
   "source": [
    "!pip install --upgrade pyqt5 lxml"
   ]
  },
  {
   "cell_type": "code",
   "execution_count": 2,
   "metadata": {
    "collapsed": true
   },
   "outputs": [
    {
     "name": "stdout",
     "output_type": "stream",
     "text": [
      "Package           Version\n",
      "----------------- --------\n",
      "asttokens         2.2.1\n",
      "backcall          0.2.0\n",
      "colorama          0.4.6\n",
      "comm              0.1.3\n",
      "debugpy           1.6.7\n",
      "decorator         5.1.1\n",
      "executing         1.2.0\n",
      "ipykernel         6.23.3\n",
      "ipython           8.14.0\n",
      "jedi              0.18.2\n",
      "jupyter_client    8.3.0\n",
      "jupyter_core      5.3.1\n",
      "lxml              4.9.2\n",
      "matplotlib-inline 0.1.6\n",
      "nest-asyncio      1.5.6\n",
      "numpy             1.25.0\n",
      "opencv-python     4.7.0.72\n",
      "packaging         23.1\n",
      "parso             0.8.3\n",
      "pickleshare       0.7.5\n",
      "pip               23.1.2\n",
      "platformdirs      3.8.0\n",
      "prompt-toolkit    3.0.38\n",
      "psutil            5.9.5\n",
      "pure-eval         0.2.2\n",
      "Pygments          2.15.1\n",
      "PyQt5             5.15.9\n",
      "PyQt5-Qt5         5.15.2\n",
      "PyQt5-sip         12.12.1\n",
      "python-dateutil   2.8.2\n",
      "pywin32           306\n",
      "pyzmq             25.1.0\n",
      "setuptools        58.1.0\n",
      "six               1.16.0\n",
      "stack-data        0.6.2\n",
      "tornado           6.3.2\n",
      "traitlets         5.9.0\n",
      "wcwidth           0.2.6\n"
     ]
    }
   ],
   "source": [
    "!pip list"
   ]
  },
  {
   "cell_type": "code",
   "execution_count": 11,
   "metadata": {
    "collapsed": true
   },
   "outputs": [],
   "source": [
    "LABELIMG_PATH = os.path.join('Tensorflow', 'labelimg')"
   ]
  },
  {
   "cell_type": "code",
   "execution_count": 12,
   "metadata": {
    "collapsed": true
   },
   "outputs": [],
   "source": [
    "if not os.path.exists(LABELIMG_PATH):\n",
    "    !mkdir {LABELIMG_PATH}\n",
    "    !git clone https://github.com/tzutalin/labelImg {LABELIMG_PATH}"
   ]
  },
  {
   "cell_type": "code",
   "execution_count": 13,
   "metadata": {
    "collapsed": true
   },
   "outputs": [],
   "source": [
    "if os.name == 'posix':\n",
    "    !make qt5py3\n",
    "if os.name =='nt':\n",
    "    !cd {LABELIMG_PATH} && pyrcc5 -o libs/resources.py resources.qrc"
   ]
  },
  {
   "cell_type": "code",
   "execution_count": 14,
   "metadata": {
    "collapsed": true
   },
   "outputs": [
    {
     "name": "stdout",
     "output_type": "stream",
     "text": [
      "Image:C:\\Studium\\Praxisprojekt\\Object Detection\\TFODCourse\\Tensorflow\\workspace\\images\\collectedimages\\thumbsdown\\thumbsdown.01f881c7-ef9d-11ee-923c-d8d0904646a8.jpg -> Annotation:C:/Studium/Praxisprojekt/Object Detection/TFODCourse/Tensorflow/workspace/images/collectedimages/thumbsdown\\thumbsdown.01f881c7-ef9d-11ee-923c-d8d0904646a8.xml\n",
      "Image:C:\\Studium\\Praxisprojekt\\Object Detection\\TFODCourse\\Tensorflow\\workspace\\images\\collectedimages\\thumbsdown\\thumbsdown.4a663aee-ef9d-11ee-9b31-d8d0904646a8.jpg -> Annotation:C:/Studium/Praxisprojekt/Object Detection/TFODCourse/Tensorflow/workspace/images/collectedimages/thumbsdown\\thumbsdown.4a663aee-ef9d-11ee-9b31-d8d0904646a8.xml\n",
      "Image:C:\\Studium\\Praxisprojekt\\Object Detection\\TFODCourse\\Tensorflow\\workspace\\images\\collectedimages\\thumbsdown\\thumbsdown.4b9d2860-ef9d-11ee-8c70-d8d0904646a8.jpg -> Annotation:C:/Studium/Praxisprojekt/Object Detection/TFODCourse/Tensorflow/workspace/images/collectedimages/thumbsdown\\thumbsdown.4b9d2860-ef9d-11ee-8c70-d8d0904646a8.xml\n",
      "Image:C:\\Studium\\Praxisprojekt\\Object Detection\\TFODCourse\\Tensorflow\\workspace\\images\\collectedimages\\thumbsdown\\thumbsdown.4cd8010a-ef9d-11ee-af38-d8d0904646a8.jpg -> Annotation:C:/Studium/Praxisprojekt/Object Detection/TFODCourse/Tensorflow/workspace/images/collectedimages/thumbsdown\\thumbsdown.4cd8010a-ef9d-11ee-af38-d8d0904646a8.xml\n",
      "Image:C:\\Studium\\Praxisprojekt\\Object Detection\\TFODCourse\\Tensorflow\\workspace\\images\\collectedimages\\thumbsdown\\thumbsdown.05a6e2de-ef9d-11ee-b08b-d8d0904646a8.jpg -> Annotation:C:/Studium/Praxisprojekt/Object Detection/TFODCourse/Tensorflow/workspace/images/collectedimages/thumbsdown\\thumbsdown.05a6e2de-ef9d-11ee-b08b-d8d0904646a8.xml\n",
      "Image:C:\\Studium\\Praxisprojekt\\Object Detection\\TFODCourse\\Tensorflow\\workspace\\images\\collectedimages\\thumbsdown\\thumbsdown.33e2a23c-ef9c-11ee-a964-d8d0904646a8.jpg -> Annotation:C:/Studium/Praxisprojekt/Object Detection/TFODCourse/Tensorflow/workspace/images/collectedimages/thumbsdown\\thumbsdown.33e2a23c-ef9c-11ee-a964-d8d0904646a8.xml\n",
      "Image:C:\\Studium\\Praxisprojekt\\Object Detection\\TFODCourse\\Tensorflow\\workspace\\images\\collectedimages\\thumbsdown\\thumbsdown.046de1d7-ef9d-11ee-87d7-d8d0904646a8.jpg -> Annotation:C:/Studium/Praxisprojekt/Object Detection/TFODCourse/Tensorflow/workspace/images/collectedimages/thumbsdown\\thumbsdown.046de1d7-ef9d-11ee-87d7-d8d0904646a8.xml\n",
      "Image:C:\\Studium\\Praxisprojekt\\Object Detection\\TFODCourse\\Tensorflow\\workspace\\images\\collectedimages\\thumbsdown\\thumbsdown.47f72046-ef9d-11ee-8ef2-d8d0904646a8.jpg -> Annotation:C:/Studium/Praxisprojekt/Object Detection/TFODCourse/Tensorflow/workspace/images/collectedimages/thumbsdown\\thumbsdown.47f72046-ef9d-11ee-8ef2-d8d0904646a8.xml\n",
      "Image:C:\\Studium\\Praxisprojekt\\Object Detection\\TFODCourse\\Tensorflow\\workspace\\images\\collectedimages\\thumbsdown\\thumbsdown.365a8e1d-ef9c-11ee-a2e6-d8d0904646a8.jpg -> Annotation:C:/Studium/Praxisprojekt/Object Detection/TFODCourse/Tensorflow/workspace/images/collectedimages/thumbsdown\\thumbsdown.365a8e1d-ef9c-11ee-a2e6-d8d0904646a8.xml\n",
      "Image:C:\\Studium\\Praxisprojekt\\Object Detection\\TFODCourse\\Tensorflow\\workspace\\images\\collectedimages\\thumbsdown\\thumbsdown.492fb22e-ef9d-11ee-82cc-d8d0904646a8.jpg -> Annotation:C:/Studium/Praxisprojekt/Object Detection/TFODCourse/Tensorflow/workspace/images/collectedimages/thumbsdown\\thumbsdown.492fb22e-ef9d-11ee-82cc-d8d0904646a8.xml\n",
      "Image:C:\\Studium\\Praxisprojekt\\Object Detection\\TFODCourse\\Tensorflow\\workspace\\images\\collectedimages\\thumbsdown\\thumbsdown.03349205-ef9d-11ee-a89c-d8d0904646a8.jpg -> Annotation:C:/Studium/Praxisprojekt/Object Detection/TFODCourse/Tensorflow/workspace/images/collectedimages/thumbsdown\\thumbsdown.03349205-ef9d-11ee-a89c-d8d0904646a8.xml\n",
      "Image:C:\\Studium\\Praxisprojekt\\Object Detection\\TFODCourse\\Tensorflow\\workspace\\images\\collectedimages\\thumbsdown\\thumbsdown.35231334-ef9c-11ee-bc72-d8d0904646a8.jpg -> Annotation:C:/Studium/Praxisprojekt/Object Detection/TFODCourse/Tensorflow/workspace/images/collectedimages/thumbsdown\\thumbsdown.35231334-ef9c-11ee-bc72-d8d0904646a8.xml\n",
      "Image:C:\\Studium\\Praxisprojekt\\Object Detection\\TFODCourse\\Tensorflow\\workspace\\images\\collectedimages\\thumbsdown\\thumbsdown.e0e92b31-ef9b-11ee-b512-d8d0904646a8.jpg -> Annotation:C:/Studium/Praxisprojekt/Object Detection/TFODCourse/Tensorflow/workspace/images/collectedimages/thumbsdown\\thumbsdown.e0e92b31-ef9b-11ee-b512-d8d0904646a8.xml\n",
      "Image:C:\\Studium\\Praxisprojekt\\Object Detection\\TFODCourse\\Tensorflow\\workspace\\images\\collectedimages\\thumbsdown\\thumbsdown.e35a74c8-ef9b-11ee-bc97-d8d0904646a8.jpg -> Annotation:C:/Studium/Praxisprojekt/Object Detection/TFODCourse/Tensorflow/workspace/images/collectedimages/thumbsdown\\thumbsdown.e35a74c8-ef9b-11ee-bc97-d8d0904646a8.xml\n",
      "Image:C:\\Studium\\Praxisprojekt\\Object Detection\\TFODCourse\\Tensorflow\\workspace\\images\\collectedimages\\thumbsdown\\thumbsdown.e221ddb9-ef9b-11ee-97f8-d8d0904646a8.jpg -> Annotation:C:/Studium/Praxisprojekt/Object Detection/TFODCourse/Tensorflow/workspace/images/collectedimages/thumbsdown\\thumbsdown.e221ddb9-ef9b-11ee-97f8-d8d0904646a8.xml\n",
      "Image:C:\\Studium\\Praxisprojekt\\Object Detection\\TFODCourse\\Tensorflow\\workspace\\images\\collectedimages\\thumbsup\\thumbsup.2ad4f7bb-ef9c-11ee-bcf6-d8d0904646a8.jpg -> Annotation:C:/Studium/Praxisprojekt/Object Detection/TFODCourse/Tensorflow/workspace/images/collectedimages/thumbsup\\thumbsup.2ad4f7bb-ef9c-11ee-bcf6-d8d0904646a8.xml\n",
      "Image:C:\\Studium\\Praxisprojekt\\Object Detection\\TFODCourse\\Tensorflow\\workspace\\images\\collectedimages\\thumbsup\\thumbsup.2c0e4427-ef9c-11ee-9d29-d8d0904646a8.jpg -> Annotation:C:/Studium/Praxisprojekt/Object Detection/TFODCourse/Tensorflow/workspace/images/collectedimages/thumbsup\\thumbsup.2c0e4427-ef9c-11ee-9d29-d8d0904646a8.xml\n",
      "Image:C:\\Studium\\Praxisprojekt\\Object Detection\\TFODCourse\\Tensorflow\\workspace\\images\\collectedimages\\thumbsup\\thumbsup.3a49a701-ef9d-11ee-8213-d8d0904646a8.jpg -> Annotation:C:/Studium/Praxisprojekt/Object Detection/TFODCourse/Tensorflow/workspace/images/collectedimages/thumbsup\\thumbsup.3a49a701-ef9d-11ee-8213-d8d0904646a8.xml\n",
      "Image:C:\\Studium\\Praxisprojekt\\Object Detection\\TFODCourse\\Tensorflow\\workspace\\images\\collectedimages\\thumbsup\\thumbsup.3b880724-ef9d-11ee-8205-d8d0904646a8.jpg -> Annotation:C:/Studium/Praxisprojekt/Object Detection/TFODCourse/Tensorflow/workspace/images/collectedimages/thumbsup\\thumbsup.3b880724-ef9d-11ee-8205-d8d0904646a8.xml\n",
      "Image:C:\\Studium\\Praxisprojekt\\Object Detection\\TFODCourse\\Tensorflow\\workspace\\images\\collectedimages\\thumbsup\\thumbsup.3cc1da47-ef9d-11ee-87e2-d8d0904646a8.jpg -> Annotation:C:/Studium/Praxisprojekt/Object Detection/TFODCourse/Tensorflow/workspace/images/collectedimages/thumbsup\\thumbsup.3cc1da47-ef9d-11ee-87e2-d8d0904646a8.xml\n",
      "Image:C:\\Studium\\Praxisprojekt\\Object Detection\\TFODCourse\\Tensorflow\\workspace\\images\\collectedimages\\thumbsup\\thumbsup.3df9fb9f-ef9d-11ee-8f8a-d8d0904646a8.jpg -> Annotation:C:/Studium/Praxisprojekt/Object Detection/TFODCourse/Tensorflow/workspace/images/collectedimages/thumbsup\\thumbsup.3df9fb9f-ef9d-11ee-8f8a-d8d0904646a8.xml\n",
      "Image:C:\\Studium\\Praxisprojekt\\Object Detection\\TFODCourse\\Tensorflow\\workspace\\images\\collectedimages\\thumbsup\\thumbsup.2992df20-ef9c-11ee-9386-d8d0904646a8.jpg -> Annotation:C:/Studium/Praxisprojekt/Object Detection/TFODCourse/Tensorflow/workspace/images/collectedimages/thumbsup\\thumbsup.2992df20-ef9c-11ee-9386-d8d0904646a8.xml\n",
      "Image:C:\\Studium\\Praxisprojekt\\Object Detection\\TFODCourse\\Tensorflow\\workspace\\images\\collectedimages\\thumbsup\\thumbsup.d8ad001f-ef9b-11ee-b15f-d8d0904646a8.jpg -> Annotation:C:/Studium/Praxisprojekt/Object Detection/TFODCourse/Tensorflow/workspace/images/collectedimages/thumbsup\\thumbsup.d8ad001f-ef9b-11ee-b15f-d8d0904646a8.xml\n",
      "Image:C:\\Studium\\Praxisprojekt\\Object Detection\\TFODCourse\\Tensorflow\\workspace\\images\\collectedimages\\thumbsup\\thumbsup.d62b62ab-ef9b-11ee-b4cf-d8d0904646a8.jpg -> Annotation:C:/Studium/Praxisprojekt/Object Detection/TFODCourse/Tensorflow/workspace/images/collectedimages/thumbsup\\thumbsup.d62b62ab-ef9b-11ee-b4cf-d8d0904646a8.xml\n",
      "Image:C:\\Studium\\Praxisprojekt\\Object Detection\\TFODCourse\\Tensorflow\\workspace\\images\\collectedimages\\thumbsup\\thumbsup.d775841c-ef9b-11ee-8f84-d8d0904646a8.jpg -> Annotation:C:/Studium/Praxisprojekt/Object Detection/TFODCourse/Tensorflow/workspace/images/collectedimages/thumbsup\\thumbsup.d775841c-ef9b-11ee-8f84-d8d0904646a8.xml\n",
      "Image:C:\\Studium\\Praxisprojekt\\Object Detection\\TFODCourse\\Tensorflow\\workspace\\images\\collectedimages\\thumbsup\\thumbsup.f4a0a0b8-ef9c-11ee-bbf5-d8d0904646a8.jpg -> Annotation:C:/Studium/Praxisprojekt/Object Detection/TFODCourse/Tensorflow/workspace/images/collectedimages/thumbsup\\thumbsup.f4a0a0b8-ef9c-11ee-bbf5-d8d0904646a8.xml\n",
      "Image:C:\\Studium\\Praxisprojekt\\Object Detection\\TFODCourse\\Tensorflow\\workspace\\images\\collectedimages\\thumbsup\\thumbsup.f5e6dd82-ef9c-11ee-a563-d8d0904646a8.jpg -> Annotation:C:/Studium/Praxisprojekt/Object Detection/TFODCourse/Tensorflow/workspace/images/collectedimages/thumbsup\\thumbsup.f5e6dd82-ef9c-11ee-a563-d8d0904646a8.xml\n",
      "Image:C:\\Studium\\Praxisprojekt\\Object Detection\\TFODCourse\\Tensorflow\\workspace\\images\\collectedimages\\thumbsup\\thumbsup.f71f79dd-ef9c-11ee-8dda-d8d0904646a8.jpg -> Annotation:C:/Studium/Praxisprojekt/Object Detection/TFODCourse/Tensorflow/workspace/images/collectedimages/thumbsup\\thumbsup.f71f79dd-ef9c-11ee-8dda-d8d0904646a8.xml\n",
      "Image:C:\\Studium\\Praxisprojekt\\Object Detection\\TFODCourse\\Tensorflow\\workspace\\images\\collectedimages\\thumbsup\\thumbsup.f71f79dd-ef9c-11ee-8dda-d8d0904646a8.jpg -> Annotation:C:/Studium/Praxisprojekt/Object Detection/TFODCourse/Tensorflow/workspace/images/collectedimages/thumbsup\\thumbsup.f71f79dd-ef9c-11ee-8dda-d8d0904646a8.xml\n",
      "Image:C:\\Studium\\Praxisprojekt\\Object Detection\\TFODCourse\\Tensorflow\\workspace\\images\\collectedimages\\thumbsup\\thumbsup.f98ff42a-ef9c-11ee-951b-d8d0904646a8.jpg -> Annotation:C:/Studium/Praxisprojekt/Object Detection/TFODCourse/Tensorflow/workspace/images/collectedimages/thumbsup\\thumbsup.f98ff42a-ef9c-11ee-951b-d8d0904646a8.xml\n",
      "Image:C:\\Studium\\Praxisprojekt\\Object Detection\\TFODCourse\\Tensorflow\\workspace\\images\\collectedimages\\thumbsup\\thumbsup.f85819ab-ef9c-11ee-aa26-d8d0904646a8.jpg -> Annotation:C:/Studium/Praxisprojekt/Object Detection/TFODCourse/Tensorflow/workspace/images/collectedimages/thumbsup\\thumbsup.f85819ab-ef9c-11ee-aa26-d8d0904646a8.xml\n"
     ]
    }
   ],
   "source": [
    "!cd {LABELIMG_PATH} && python labelImg.py"
   ]
  },
  {
   "cell_type": "markdown",
   "metadata": {},
   "source": [
    "# 6. Move them into a Training and Testing Partition"
   ]
  },
  {
   "cell_type": "markdown",
   "metadata": {},
   "source": [
    "# OPTIONAL - 7. Compress them for Colab Training"
   ]
  },
  {
   "cell_type": "code",
   "execution_count": 20,
   "metadata": {
    "collapsed": true
   },
   "outputs": [],
   "source": [
    "TRAIN_PATH = os.path.join('Tensorflow', 'workspace', 'images', 'train')\n",
    "TEST_PATH = os.path.join('Tensorflow', 'workspace', 'images', 'test')\n",
    "ARCHIVE_PATH = os.path.join('Tensorflow', 'workspace', 'images', 'archive.tar.gz')"
   ]
  },
  {
   "cell_type": "code",
   "execution_count": 21,
   "metadata": {
    "collapsed": true
   },
   "outputs": [],
   "source": [
    "!tar -czf {ARCHIVE_PATH} {TRAIN_PATH} {TEST_PATH}"
   ]
  },
  {
   "cell_type": "code",
   "execution_count": null,
   "metadata": {
    "collapsed": true
   },
   "outputs": [],
   "source": []
  }
 ],
 "metadata": {
  "kernelspec": {
   "display_name": "od",
   "language": "python",
   "name": "od"
  },
  "language_info": {
   "codemirror_mode": {
    "name": "ipython",
    "version": 3
   },
   "file_extension": ".py",
   "mimetype": "text/x-python",
   "name": "python",
   "nbconvert_exporter": "python",
   "pygments_lexer": "ipython3",
   "version": "3.10.4"
  }
 },
 "nbformat": 4,
 "nbformat_minor": 2
}
